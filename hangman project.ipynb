import random

#from hangman_words import words_list 

words_list = ['apple', 'seal', 'propaganda', 'interior', 'memory', 'artificial', 'keyboard', 'cello', 'kernel', 
            'language', 'outstanding', 'journey', 'marketing', 'profession', 'penalty', 'traffic', 'cinema', 
            'conspiracy', 'gambling', 'honest', 'robot', 'earphone', 'whiteboard', 'chcolate', 'landmark', 
             'pier', 'parliament', 'court']
  
stages = [
    """  +---+
  |   |
  O   |
 /|\\  |
 / \\   |
      |
=========""",
    """  +---+
  |   |
  O   |
 /|\\  |
 /     |
      |
=========""",
    """  +---+
  |   |
  O   |
 /|   |
      |
      |
=========""",
    """  +---+
  |   |
  O   |
 /     |
      |
      |
=========""",
    """  +---+
  |   |
  O   |
  |   |
      |
      |
=========""",
    """  +---+
  |   |
  O   |
      |
      |
      |
=========""",
    """  +---+
  |   |
      |
      |
      |
      |
========="""
]

#STEP 1: Randomly choose a word from the 'words' list and assign it to a random_word variable. Print this word. 

random_word = random.choice(words_list)
print(random_word)



lives = 6

#STEP 4: create a 'placxeholder' with the same number of blanks ad

placeholder = ""
word_length = len(random_word)
for letter in range(word_length):
    placeholder += "_ "
print(placeholder)

game_over = False

correct_letters =[]

while not game_over:
    
    #STEP 2: ask the user to input theit guess and assign it to a guess variable. Make the guess lower case. 
    
    guess = input('Enter a letter to make your guess:').lower()
    
    #PRINT A RESPONSE TO THE USER IN CASE THEY INPUTBTHE LETTER THEY HAVE ALREADY GUESSED
    
    if guess in correct_letters:
        print(f'You have already guessed {guess}!')

    display = " "
    
     #STEP 3: Check is the letter (guess) the user input is one of the letters in the chosen_word.
     #Print 'right' if it is or 'wrong' if it's not
    '''
    for letter in random_word:
        if letter == guess:
            print('right')
        else: print('wrong')
        
    '''
    
    for letter in random_word:
        if letter == guess:
            display+= letter
            correct_letters.append(letter)
            #print('Correct! Continue at the same pace!')
        elif letter in correct_letters:
            display+= letter
        else:
            display += "_ "
            
    print(display)
    
    if "_" not in display:
        game_over = True 
        print('You win!')

    if guess not in random_word:
        lives-= 1
        if lives > 0:
            print(f'Wrong! {guess} is not in the word. You have {lives} lives left')
        else:
            game_over = True
            print(f'You lost! The word you were trying to guess is: {random_word}')
    print(stages[lives])  
#STEP 1: Randomly choose a word from the 'words' list and assign it to a random_word variable. Print this word. 

import random
words = ['apple', 'seal', 'propaganda', 'interior', 'memory', 'artificial', 'keyboard', 'cello', 'kernel', 
         'language', 'outstanding', 'journey', 'marketing', 'profession', 'penalty', 'traffic']
random_word = random.choice(words)
print(random_word)


#STEP 10: create a variable lives and set it to 6, so the player has 6 attempts to guess 

lives = 6

placeholder1 = " "
word_length = len(random_word)
for x in range(word_length):
    placeholder1 += '_ '
print(placeholder1)

#STEP 7: CREATE AN EMPTY LIST TO ADD CORRECT LETTERS, we create it outside of the while loop, so it doesn't 
#empty after each iteration and stores the values
correct_answers = []

#CREATE A CONDITION FOR A WHILE LOOP:

game_over = False

#STEP 4: create a while loop
while True:
    
    
    #STEP 2: ask the user to input theit guess and assign it to a guess variable. Make the guess lower case. 
    
    guess = input('Enter a letter to make your guess:').lower()
    
    
    #STEP 5: create an empty string 'display' to put the guess letter into the right position and 
    #display blank spaces or letters in blank spaces in case the guess is the cirrect letter present 
    #in the random word
    
    display = ''
    
    #STEP 6: loop through each letter in the random_word
    
    for letter in random_word:
        if letter == guess:
            display += guess
            #STEP 8: append the correct letter to the empty list you created:
            correct_answers.append(guess)
         #STEP 9: in the next round when we make a new guess and it's correct, 
        #it will add the letter instead of the blank, but the previous letter no longer matches other letters, 
        #so the condition  will check if the previous letter is on the correct_answers list, and if so, 
        #it will add it to the string
        
        elif letter in correct_answers:
            display+=letter
        else:
            display+= '_ '
    print(display)
    
    #STEP 9: write statement to exit the loop once all the spaces are completed (we check, 
    #if there any blank spaces left in the display):
    
    if "_" not in display:
        game_over = True
        print('You won!')
        
        
  #STEP 11: CREATE A CONDITION STATEMENT THAT WILL KEEP TRACK OF THE AMOUNT OF LIVES LEFT. IF THE # OF LIVES IS 0, 
  #THEN THE GAME IS OVER< GANE OVER IS TRUE AND WE EXIT THE LOOP
        
    if guess not in random_word:
        lives-=1
        if lives>0:
            print(f'Try again! You have {lives} lives left.')
        else:
            game_over = True
            print('Game over!')

#STEP 3: Check is the letter (guess) the user input is one of the letters in the chosen_word.
     #Print 'right' if it is or 'wrong' if it's not
"""    
for letter in random_word:
    if letter == guess:
        print('right')
    else: print('wrong')
"""
